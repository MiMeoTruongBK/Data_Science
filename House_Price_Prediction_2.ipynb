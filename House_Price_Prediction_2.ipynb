{
 "cells": [
  {
   "cell_type": "code",
   "execution_count": 1,
   "id": "da13c1e6",
   "metadata": {},
   "outputs": [
    {
     "name": "stdout",
     "output_type": "stream",
     "text": [
      "TÔI YÊU CHỊ MI MEO !!!\n"
     ]
    }
   ],
   "source": [
    "print(\"TÔI YÊU CHỊ MI MEO !!!\")"
   ]
  },
  {
   "cell_type": "code",
   "execution_count": 1,
   "id": "11710cec",
   "metadata": {},
   "outputs": [],
   "source": [
    "import pandas as pd \n",
    "import numpy as np \n",
    "import seaborn as sns\n",
    "import matplotlib.pyplot as plt\n",
    "from sklearn.preprocessing import MinMaxScaler, StandardScaler , PolynomialFeatures\n",
    "from sklearn.model_selection import train_test_split\n",
    "from sklearn.linear_model import Lasso, Ridge , LinearRegression\n",
    "from sklearn.metrics import mean_squared_error, r2_score\n",
    "from sklearn.preprocessing import LabelEncoder"
   ]
  },
  {
   "cell_type": "raw",
   "id": "ae112516",
   "metadata": {},
   "source": [
    "-'Avg. Area Income': Avg. Income of residents of the city house is located in.\n",
    "-'Avg. Area House Age': Avg Age of Houses in same city\n",
    "-'Avg. Area Number of Rooms': Avg Number of Rooms for Houses in same city\n",
    "-'Avg. Area Number of Bedrooms': Avg Number of Bedrooms for Houses in same city\n",
    "-'Area Population': Population of city house is located in\n",
    "-'Price': Price that the house sold at\n",
    "-'Address': Address for the house"
   ]
  },
  {
   "cell_type": "code",
   "execution_count": 2,
   "id": "1767b721",
   "metadata": {
    "scrolled": false
   },
   "outputs": [
    {
     "data": {
      "text/html": [
       "<div>\n",
       "<style scoped>\n",
       "    .dataframe tbody tr th:only-of-type {\n",
       "        vertical-align: middle;\n",
       "    }\n",
       "\n",
       "    .dataframe tbody tr th {\n",
       "        vertical-align: top;\n",
       "    }\n",
       "\n",
       "    .dataframe thead th {\n",
       "        text-align: right;\n",
       "    }\n",
       "</style>\n",
       "<table border=\"1\" class=\"dataframe\">\n",
       "  <thead>\n",
       "    <tr style=\"text-align: right;\">\n",
       "      <th></th>\n",
       "      <th>Avg. Area Income</th>\n",
       "      <th>Avg. Area House Age</th>\n",
       "      <th>Avg. Area Number of Rooms</th>\n",
       "      <th>Avg. Area Number of Bedrooms</th>\n",
       "      <th>Area Population</th>\n",
       "      <th>Price</th>\n",
       "      <th>Address</th>\n",
       "    </tr>\n",
       "  </thead>\n",
       "  <tbody>\n",
       "    <tr>\n",
       "      <th>0</th>\n",
       "      <td>79545.458574</td>\n",
       "      <td>5.682861</td>\n",
       "      <td>7.009188</td>\n",
       "      <td>4.09</td>\n",
       "      <td>23086.800503</td>\n",
       "      <td>1.059034e+06</td>\n",
       "      <td>208 Michael Ferry Apt. 674\\nLaurabury, NE 3701...</td>\n",
       "    </tr>\n",
       "    <tr>\n",
       "      <th>1</th>\n",
       "      <td>79248.642455</td>\n",
       "      <td>6.002900</td>\n",
       "      <td>6.730821</td>\n",
       "      <td>3.09</td>\n",
       "      <td>40173.072174</td>\n",
       "      <td>1.505891e+06</td>\n",
       "      <td>188 Johnson Views Suite 079\\nLake Kathleen, CA...</td>\n",
       "    </tr>\n",
       "    <tr>\n",
       "      <th>2</th>\n",
       "      <td>61287.067179</td>\n",
       "      <td>5.865890</td>\n",
       "      <td>8.512727</td>\n",
       "      <td>5.13</td>\n",
       "      <td>36882.159400</td>\n",
       "      <td>1.058988e+06</td>\n",
       "      <td>9127 Elizabeth Stravenue\\nDanieltown, WI 06482...</td>\n",
       "    </tr>\n",
       "    <tr>\n",
       "      <th>3</th>\n",
       "      <td>63345.240046</td>\n",
       "      <td>7.188236</td>\n",
       "      <td>5.586729</td>\n",
       "      <td>3.26</td>\n",
       "      <td>34310.242831</td>\n",
       "      <td>1.260617e+06</td>\n",
       "      <td>USS Barnett\\nFPO AP 44820</td>\n",
       "    </tr>\n",
       "    <tr>\n",
       "      <th>4</th>\n",
       "      <td>59982.197226</td>\n",
       "      <td>5.040555</td>\n",
       "      <td>7.839388</td>\n",
       "      <td>4.23</td>\n",
       "      <td>26354.109472</td>\n",
       "      <td>6.309435e+05</td>\n",
       "      <td>USNS Raymond\\nFPO AE 09386</td>\n",
       "    </tr>\n",
       "  </tbody>\n",
       "</table>\n",
       "</div>"
      ],
      "text/plain": [
       "   Avg. Area Income  Avg. Area House Age  Avg. Area Number of Rooms  \\\n",
       "0      79545.458574             5.682861                   7.009188   \n",
       "1      79248.642455             6.002900                   6.730821   \n",
       "2      61287.067179             5.865890                   8.512727   \n",
       "3      63345.240046             7.188236                   5.586729   \n",
       "4      59982.197226             5.040555                   7.839388   \n",
       "\n",
       "   Avg. Area Number of Bedrooms  Area Population         Price  \\\n",
       "0                          4.09     23086.800503  1.059034e+06   \n",
       "1                          3.09     40173.072174  1.505891e+06   \n",
       "2                          5.13     36882.159400  1.058988e+06   \n",
       "3                          3.26     34310.242831  1.260617e+06   \n",
       "4                          4.23     26354.109472  6.309435e+05   \n",
       "\n",
       "                                             Address  \n",
       "0  208 Michael Ferry Apt. 674\\nLaurabury, NE 3701...  \n",
       "1  188 Johnson Views Suite 079\\nLake Kathleen, CA...  \n",
       "2  9127 Elizabeth Stravenue\\nDanieltown, WI 06482...  \n",
       "3                          USS Barnett\\nFPO AP 44820  \n",
       "4                         USNS Raymond\\nFPO AE 09386  "
      ]
     },
     "execution_count": 2,
     "metadata": {},
     "output_type": "execute_result"
    }
   ],
   "source": [
    "# Load dataset \n",
    "data = pd.read_csv('USA_Housing.csv')\n",
    "data.head()"
   ]
  },
  {
   "cell_type": "code",
   "execution_count": 4,
   "id": "5fed5ede",
   "metadata": {},
   "outputs": [
    {
     "data": {
      "text/plain": [
       "Index(['Avg. Area Income', 'Avg. Area House Age', 'Avg. Area Number of Rooms',\n",
       "       'Avg. Area Number of Bedrooms', 'Area Population', 'Price', 'Address'],\n",
       "      dtype='object')"
      ]
     },
     "execution_count": 4,
     "metadata": {},
     "output_type": "execute_result"
    }
   ],
   "source": [
    "data.columns"
   ]
  },
  {
   "cell_type": "code",
   "execution_count": 5,
   "id": "a8bdcfbc",
   "metadata": {},
   "outputs": [
    {
     "data": {
      "text/plain": [
       "(5000, 7)"
      ]
     },
     "execution_count": 5,
     "metadata": {},
     "output_type": "execute_result"
    }
   ],
   "source": [
    "data.shape"
   ]
  },
  {
   "cell_type": "code",
   "execution_count": 6,
   "id": "cd53a82c",
   "metadata": {},
   "outputs": [
    {
     "name": "stdout",
     "output_type": "stream",
     "text": [
      "<class 'pandas.core.frame.DataFrame'>\n",
      "RangeIndex: 5000 entries, 0 to 4999\n",
      "Data columns (total 7 columns):\n",
      " #   Column                        Non-Null Count  Dtype  \n",
      "---  ------                        --------------  -----  \n",
      " 0   Avg. Area Income              5000 non-null   float64\n",
      " 1   Avg. Area House Age           5000 non-null   float64\n",
      " 2   Avg. Area Number of Rooms     5000 non-null   float64\n",
      " 3   Avg. Area Number of Bedrooms  5000 non-null   float64\n",
      " 4   Area Population               5000 non-null   float64\n",
      " 5   Price                         5000 non-null   float64\n",
      " 6   Address                       5000 non-null   object \n",
      "dtypes: float64(6), object(1)\n",
      "memory usage: 273.6+ KB\n"
     ]
    }
   ],
   "source": [
    "data.info()"
   ]
  },
  {
   "cell_type": "code",
   "execution_count": 3,
   "id": "9041f695",
   "metadata": {},
   "outputs": [
    {
     "data": {
      "text/html": [
       "<div>\n",
       "<style scoped>\n",
       "    .dataframe tbody tr th:only-of-type {\n",
       "        vertical-align: middle;\n",
       "    }\n",
       "\n",
       "    .dataframe tbody tr th {\n",
       "        vertical-align: top;\n",
       "    }\n",
       "\n",
       "    .dataframe thead th {\n",
       "        text-align: right;\n",
       "    }\n",
       "</style>\n",
       "<table border=\"1\" class=\"dataframe\">\n",
       "  <thead>\n",
       "    <tr style=\"text-align: right;\">\n",
       "      <th></th>\n",
       "      <th>Avg. Area Income</th>\n",
       "      <th>Avg. Area House Age</th>\n",
       "      <th>Avg. Area Number of Rooms</th>\n",
       "      <th>Avg. Area Number of Bedrooms</th>\n",
       "      <th>Area Population</th>\n",
       "      <th>Price</th>\n",
       "    </tr>\n",
       "  </thead>\n",
       "  <tbody>\n",
       "    <tr>\n",
       "      <th>0</th>\n",
       "      <td>79545.458574</td>\n",
       "      <td>5.682861</td>\n",
       "      <td>7.009188</td>\n",
       "      <td>4.09</td>\n",
       "      <td>23086.800503</td>\n",
       "      <td>1.059034e+06</td>\n",
       "    </tr>\n",
       "    <tr>\n",
       "      <th>1</th>\n",
       "      <td>79248.642455</td>\n",
       "      <td>6.002900</td>\n",
       "      <td>6.730821</td>\n",
       "      <td>3.09</td>\n",
       "      <td>40173.072174</td>\n",
       "      <td>1.505891e+06</td>\n",
       "    </tr>\n",
       "    <tr>\n",
       "      <th>2</th>\n",
       "      <td>61287.067179</td>\n",
       "      <td>5.865890</td>\n",
       "      <td>8.512727</td>\n",
       "      <td>5.13</td>\n",
       "      <td>36882.159400</td>\n",
       "      <td>1.058988e+06</td>\n",
       "    </tr>\n",
       "    <tr>\n",
       "      <th>3</th>\n",
       "      <td>63345.240046</td>\n",
       "      <td>7.188236</td>\n",
       "      <td>5.586729</td>\n",
       "      <td>3.26</td>\n",
       "      <td>34310.242831</td>\n",
       "      <td>1.260617e+06</td>\n",
       "    </tr>\n",
       "    <tr>\n",
       "      <th>4</th>\n",
       "      <td>59982.197226</td>\n",
       "      <td>5.040555</td>\n",
       "      <td>7.839388</td>\n",
       "      <td>4.23</td>\n",
       "      <td>26354.109472</td>\n",
       "      <td>6.309435e+05</td>\n",
       "    </tr>\n",
       "  </tbody>\n",
       "</table>\n",
       "</div>"
      ],
      "text/plain": [
       "   Avg. Area Income  Avg. Area House Age  Avg. Area Number of Rooms  \\\n",
       "0      79545.458574             5.682861                   7.009188   \n",
       "1      79248.642455             6.002900                   6.730821   \n",
       "2      61287.067179             5.865890                   8.512727   \n",
       "3      63345.240046             7.188236                   5.586729   \n",
       "4      59982.197226             5.040555                   7.839388   \n",
       "\n",
       "   Avg. Area Number of Bedrooms  Area Population         Price  \n",
       "0                          4.09     23086.800503  1.059034e+06  \n",
       "1                          3.09     40173.072174  1.505891e+06  \n",
       "2                          5.13     36882.159400  1.058988e+06  \n",
       "3                          3.26     34310.242831  1.260617e+06  \n",
       "4                          4.23     26354.109472  6.309435e+05  "
      ]
     },
     "execution_count": 3,
     "metadata": {},
     "output_type": "execute_result"
    }
   ],
   "source": [
    "data = data.drop('Address' , axis=1)\n",
    "data.head()"
   ]
  },
  {
   "cell_type": "code",
   "execution_count": 4,
   "id": "2675ec73",
   "metadata": {},
   "outputs": [
    {
     "data": {
      "image/png": "[encoded data removed]",
      "text/plain": [
       "<Figure size 640x480 with 2 Axes>"
      ]
     },
     "metadata": {},
     "output_type": "display_data"
    }
   ],
   "source": [
    "sns.heatmap(data.corr(), cmap=\"YlGnBu\", annot=True,\n",
    "           fmt='.2f' , \n",
    "           vmin=-1 , vmax=1 , \n",
    "           linecolor='white' , linewidths=0.7);"
   ]
  },
  {
   "cell_type": "code",
   "execution_count": 61,
   "id": "7bdf285e",
   "metadata": {},
   "outputs": [
    {
     "data": {
      "text/html": [
       "<div>\n",
       "<style scoped>\n",
       "    .dataframe tbody tr th:only-of-type {\n",
       "        vertical-align: middle;\n",
       "    }\n",
       "\n",
       "    .dataframe tbody tr th {\n",
       "        vertical-align: top;\n",
       "    }\n",
       "\n",
       "    .dataframe thead th {\n",
       "        text-align: right;\n",
       "    }\n",
       "</style>\n",
       "<table border=\"1\" class=\"dataframe\">\n",
       "  <thead>\n",
       "    <tr style=\"text-align: right;\">\n",
       "      <th></th>\n",
       "      <th>Avg. Area Income</th>\n",
       "      <th>Avg. Area House Age</th>\n",
       "      <th>Avg. Area Number of Rooms</th>\n",
       "      <th>Avg. Area Number of Bedrooms</th>\n",
       "      <th>Area Population</th>\n",
       "    </tr>\n",
       "  </thead>\n",
       "  <tbody>\n",
       "    <tr>\n",
       "      <th>4995</th>\n",
       "      <td>60567.944140</td>\n",
       "      <td>7.830362</td>\n",
       "      <td>6.137356</td>\n",
       "      <td>3.46</td>\n",
       "      <td>22837.361035</td>\n",
       "    </tr>\n",
       "    <tr>\n",
       "      <th>4996</th>\n",
       "      <td>78491.275435</td>\n",
       "      <td>6.999135</td>\n",
       "      <td>6.576763</td>\n",
       "      <td>4.02</td>\n",
       "      <td>25616.115489</td>\n",
       "    </tr>\n",
       "    <tr>\n",
       "      <th>4997</th>\n",
       "      <td>63390.686886</td>\n",
       "      <td>7.250591</td>\n",
       "      <td>4.805081</td>\n",
       "      <td>2.13</td>\n",
       "      <td>33266.145490</td>\n",
       "    </tr>\n",
       "    <tr>\n",
       "      <th>4998</th>\n",
       "      <td>68001.331235</td>\n",
       "      <td>5.534388</td>\n",
       "      <td>7.130144</td>\n",
       "      <td>5.44</td>\n",
       "      <td>42625.620156</td>\n",
       "    </tr>\n",
       "    <tr>\n",
       "      <th>4999</th>\n",
       "      <td>65510.581804</td>\n",
       "      <td>5.992305</td>\n",
       "      <td>6.792336</td>\n",
       "      <td>4.07</td>\n",
       "      <td>46501.283803</td>\n",
       "    </tr>\n",
       "  </tbody>\n",
       "</table>\n",
       "</div>"
      ],
      "text/plain": [
       "      Avg. Area Income  Avg. Area House Age  Avg. Area Number of Rooms  \\\n",
       "4995      60567.944140             7.830362                   6.137356   \n",
       "4996      78491.275435             6.999135                   6.576763   \n",
       "4997      63390.686886             7.250591                   4.805081   \n",
       "4998      68001.331235             5.534388                   7.130144   \n",
       "4999      65510.581804             5.992305                   6.792336   \n",
       "\n",
       "      Avg. Area Number of Bedrooms  Area Population  \n",
       "4995                          3.46     22837.361035  \n",
       "4996                          4.02     25616.115489  \n",
       "4997                          2.13     33266.145490  \n",
       "4998                          5.44     42625.620156  \n",
       "4999                          4.07     46501.283803  "
      ]
     },
     "execution_count": 61,
     "metadata": {},
     "output_type": "execute_result"
    }
   ],
   "source": [
    "X = data.drop('Price',axis=1)\n",
    "y = data['Price']\n",
    "X_validation = X.iloc[4995: , :]\n",
    "y_validation = y.iloc[4995:]\n",
    "X_Test = X.iloc[:4995,:]\n",
    "y_Test = y.iloc[:4995]\n",
    "X_train , X_test , y_train , y_test = train_test_split(X_Test,y_Test,test_size=0.2 , random_state=42)\n",
    "X_validation "
   ]
  },
  {
   "cell_type": "code",
   "execution_count": 59,
   "id": "57d6972a",
   "metadata": {},
   "outputs": [],
   "source": [
    "scaler = MinMaxScaler()\n",
    "scaler.fit(X_train)\n",
    "X_train_scaled = scaler.transform(X_train)\n",
    "X_test_scaled = scaler.transform(X_test)\n",
    "X_validation_scaled = scaler.transform(X_validation)"
   ]
  },
  {
   "cell_type": "code",
   "execution_count": 66,
   "id": "84121d16",
   "metadata": {},
   "outputs": [],
   "source": [
    "lr = LinearRegression()\n",
    "lr.fit(X_train_scaled , y_train)\n",
    "y_pred = lr.predict(X_test_scaled)"
   ]
  },
  {
   "cell_type": "code",
   "execution_count": 78,
   "id": "a771d73b",
   "metadata": {},
   "outputs": [
    {
     "name": "stdout",
     "output_type": "stream",
     "text": [
      "10328114634.267986\n",
      "0.9149029772354509\n"
     ]
    }
   ],
   "source": [
    "mse = mean_squared_error(y_test, y_pred)\n",
    "r2 = r2_score(y_test,y_pred)\n",
    "\n",
    "print(mse)\n",
    "print(r2)"
   ]
  },
  {
   "cell_type": "code",
   "execution_count": 68,
   "id": "eb5c8f98",
   "metadata": {},
   "outputs": [
    {
     "name": "stdout",
     "output_type": "stream",
     "text": [
      "10328285225.83825\n",
      "0.9149015716706163\n"
     ]
    }
   ],
   "source": [
    "rd = Ridge()\n",
    "rd.fit(X_train , y_train)\n",
    "y_pred_1 = rd.predict(X_test)\n",
    "\n",
    "mse = mean_squared_error(y_test, y_pred_1)\n",
    "r2 = r2_score(y_test,y_pred_1)\n",
    "\n",
    "print(mse)\n",
    "print(r2)"
   ]
  },
  {
   "cell_type": "code",
   "execution_count": 69,
   "id": "7878d0c8",
   "metadata": {},
   "outputs": [
    {
     "name": "stdout",
     "output_type": "stream",
     "text": [
      "10328116176.282866\n",
      "0.91490296453024\n"
     ]
    }
   ],
   "source": [
    "ls = Lasso()\n",
    "ls.fit(X_train , y_train)\n",
    "y_pred_2 = ls.predict(X_test)\n",
    "\n",
    "mse = mean_squared_error(y_test, y_pred_2)\n",
    "r2 = r2_score(y_test,y_pred_2)\n",
    "\n",
    "print(mse)\n",
    "print(r2)"
   ]
  },
  {
   "cell_type": "code",
   "execution_count": 73,
   "id": "b5bda206",
   "metadata": {},
   "outputs": [
    {
     "name": "stdout",
     "output_type": "stream",
     "text": [
      "10461145432.833931\n",
      "0.9138068890049436\n"
     ]
    }
   ],
   "source": [
    "pr = PolynomialFeatures(degree = 4)\n",
    "X_poly = pr.fit_transform(X_train_scaled)\n",
    "X_test_poly = pr.fit_transform(X_test_scaled)\n",
    "rd = Ridge()\n",
    "rd.fit(X_poly , y_train)\n",
    "\n",
    "y_Pred = rd.predict(X_test_poly)\n",
    "\n",
    "mse = mean_squared_error(y_test, y_Pred)\n",
    "r2 = r2_score(y_test,y_Pred)\n",
    "\n",
    "print(mse)\n",
    "print(r2)"
   ]
  },
  {
   "cell_type": "code",
   "execution_count": 74,
   "id": "985e69e0",
   "metadata": {},
   "outputs": [],
   "source": [
    "y_pred_validation = lr.predict(X_validation_scaled)"
   ]
  },
  {
   "cell_type": "code",
   "execution_count": 75,
   "id": "913e31f1",
   "metadata": {},
   "outputs": [
    {
     "data": {
      "text/plain": [
       "array([1057495.53822463, 1402198.96991572, 1018557.20521075,\n",
       "       1263761.64880843, 1301688.92667751])"
      ]
     },
     "execution_count": 75,
     "metadata": {},
     "output_type": "execute_result"
    }
   ],
   "source": [
    "y_pred_validation"
   ]
  },
  {
   "cell_type": "code",
   "execution_count": 76,
   "id": "2aa41668",
   "metadata": {},
   "outputs": [
    {
     "data": {
      "text/plain": [
       "4995    1.060194e+06\n",
       "4996    1.482618e+06\n",
       "4997    1.030730e+06\n",
       "4998    1.198657e+06\n",
       "4999    1.298950e+06\n",
       "Name: Price, dtype: float64"
      ]
     },
     "execution_count": 76,
     "metadata": {},
     "output_type": "execute_result"
    }
   ],
   "source": [
    "y_validation"
   ]
  },
  {
   "cell_type": "code",
   "execution_count": 77,
   "id": "4633fd27",
   "metadata": {},
   "outputs": [
    {
     "data": {
      "text/plain": [
       "4995     2698.247660\n",
       "4996    80418.758706\n",
       "4997    12172.377942\n",
       "4998   -65104.776401\n",
       "4999    -2738.446411\n",
       "Name: Price, dtype: float64"
      ]
     },
     "execution_count": 77,
     "metadata": {},
     "output_type": "execute_result"
    }
   ],
   "source": [
    "y_validation-y_pred_validation"
   ]
  },
  {
   "cell_type": "code",
   "execution_count": null,
   "id": "8540ae44",
   "metadata": {},
   "outputs": [],
   "source": []
  }
 ],
 "metadata": {
  "kernelspec": {
   "display_name": "Python 3 (ipykernel)",
   "language": "python",
   "name": "python3"
  },
  "language_info": {
   "codemirror_mode": {
    "name": "ipython",
    "version": 3
   },
   "file_extension": ".py",
   "mimetype": "text/x-python",
   "name": "python",
   "nbconvert_exporter": "python",
   "pygments_lexer": "ipython3",
   "version": "3.11.5"
  }
 },
 "nbformat": 4,
 "nbformat_minor": 5
}
